{
 "cells": [
  {
   "cell_type": "code",
   "execution_count": 166,
   "metadata": {},
   "outputs": [],
   "source": [
    "import numpy as np\n",
    "import pandas as pd\n",
    "import matplotlib.pyplot as plt\n",
    "from sklearn.linear_model import LogisticRegression\n",
    "from sklearn.ensemble import GradientBoostingClassifier, RandomForestClassifier\n",
    "from sklearn.model_selection import train_test_split, GridSearchCV, cross_val_score\n",
    "from sklearn.metrics import accuracy_score\n",
    "from sklearn.preprocessing import OneHotEncoder, StandardScaler, MinMaxScaler\n",
    "import seaborn as sns\n",
    "%matplotlib inline\n",
    "\n",
    "import warnings\n",
    "warnings.filterwarnings('ignore')"
   ]
  },
  {
   "cell_type": "markdown",
   "metadata": {},
   "source": [
    "Dataset being reviewed contains data about fights held by MMA promotion UFC. Each row represents a separate fight, including match-specific information such as winner and finish details, and also data about fighters: their rank, age, average takedown accuracy and so on.\n",
    "\n",
    "Starting with loading and reviewing the dataset."
   ]
  },
  {
   "cell_type": "code",
   "execution_count": 167,
   "metadata": {},
   "outputs": [],
   "source": [
    "df = pd.read_csv('./data/ufc-master.csv')"
   ]
  },
  {
   "cell_type": "code",
   "execution_count": 168,
   "metadata": {},
   "outputs": [
    {
     "data": {
      "text/plain": [
       "(4307, 113)"
      ]
     },
     "execution_count": 168,
     "metadata": {},
     "output_type": "execute_result"
    }
   ],
   "source": [
    "df.shape"
   ]
  },
  {
   "cell_type": "code",
   "execution_count": 169,
   "metadata": {},
   "outputs": [
    {
     "data": {
      "text/html": [
       "<div>\n",
       "<style scoped>\n",
       "    .dataframe tbody tr th:only-of-type {\n",
       "        vertical-align: middle;\n",
       "    }\n",
       "\n",
       "    .dataframe tbody tr th {\n",
       "        vertical-align: top;\n",
       "    }\n",
       "\n",
       "    .dataframe thead th {\n",
       "        text-align: right;\n",
       "    }\n",
       "</style>\n",
       "<table border=\"1\" class=\"dataframe\">\n",
       "  <thead>\n",
       "    <tr style=\"text-align: right;\">\n",
       "      <th></th>\n",
       "      <th>R_fighter</th>\n",
       "      <th>B_fighter</th>\n",
       "      <th>R_odds</th>\n",
       "      <th>B_odds</th>\n",
       "      <th>R_ev</th>\n",
       "      <th>B_ev</th>\n",
       "      <th>date</th>\n",
       "      <th>location</th>\n",
       "      <th>country</th>\n",
       "      <th>Winner</th>\n",
       "      <th>...</th>\n",
       "      <th>B_Featherweight_rank</th>\n",
       "      <th>B_Bantamweight_rank</th>\n",
       "      <th>B_Flyweight_rank</th>\n",
       "      <th>B_Pound-for-Pound_rank</th>\n",
       "      <th>better_rank</th>\n",
       "      <th>finish</th>\n",
       "      <th>finish_details</th>\n",
       "      <th>finish_round</th>\n",
       "      <th>finish_round_time</th>\n",
       "      <th>total_fight_time_secs</th>\n",
       "    </tr>\n",
       "  </thead>\n",
       "  <tbody>\n",
       "    <tr>\n",
       "      <th>0</th>\n",
       "      <td>Robert Whittaker</td>\n",
       "      <td>Darren Till</td>\n",
       "      <td>-130</td>\n",
       "      <td>107</td>\n",
       "      <td>76.923077</td>\n",
       "      <td>107.000000</td>\n",
       "      <td>7/25/2020</td>\n",
       "      <td>Abu Dhabi, Abu Dhabi, United Arab Emirates</td>\n",
       "      <td>United Arab Emirates</td>\n",
       "      <td>Red</td>\n",
       "      <td>...</td>\n",
       "      <td>NaN</td>\n",
       "      <td>NaN</td>\n",
       "      <td>NaN</td>\n",
       "      <td>NaN</td>\n",
       "      <td>Red</td>\n",
       "      <td>U-DEC</td>\n",
       "      <td>NaN</td>\n",
       "      <td>5.0</td>\n",
       "      <td>5:00</td>\n",
       "      <td>1500.0</td>\n",
       "    </tr>\n",
       "    <tr>\n",
       "      <th>1</th>\n",
       "      <td>Mauricio Rua</td>\n",
       "      <td>Rogerio Nogueira</td>\n",
       "      <td>-190</td>\n",
       "      <td>150</td>\n",
       "      <td>52.631579</td>\n",
       "      <td>150.000000</td>\n",
       "      <td>7/25/2020</td>\n",
       "      <td>Abu Dhabi, Abu Dhabi, United Arab Emirates</td>\n",
       "      <td>United Arab Emirates</td>\n",
       "      <td>Red</td>\n",
       "      <td>...</td>\n",
       "      <td>NaN</td>\n",
       "      <td>NaN</td>\n",
       "      <td>NaN</td>\n",
       "      <td>NaN</td>\n",
       "      <td>Red</td>\n",
       "      <td>S-DEC</td>\n",
       "      <td>NaN</td>\n",
       "      <td>3.0</td>\n",
       "      <td>5:00</td>\n",
       "      <td>900.0</td>\n",
       "    </tr>\n",
       "    <tr>\n",
       "      <th>2</th>\n",
       "      <td>Fabricio Werdum</td>\n",
       "      <td>Alexander Gustafsson</td>\n",
       "      <td>260</td>\n",
       "      <td>-335</td>\n",
       "      <td>260.000000</td>\n",
       "      <td>29.850746</td>\n",
       "      <td>7/25/2020</td>\n",
       "      <td>Abu Dhabi, Abu Dhabi, United Arab Emirates</td>\n",
       "      <td>United Arab Emirates</td>\n",
       "      <td>Red</td>\n",
       "      <td>...</td>\n",
       "      <td>NaN</td>\n",
       "      <td>NaN</td>\n",
       "      <td>NaN</td>\n",
       "      <td>NaN</td>\n",
       "      <td>Blue</td>\n",
       "      <td>SUB</td>\n",
       "      <td>Armbar</td>\n",
       "      <td>1.0</td>\n",
       "      <td>2:30</td>\n",
       "      <td>150.0</td>\n",
       "    </tr>\n",
       "    <tr>\n",
       "      <th>3</th>\n",
       "      <td>Carla Esparza</td>\n",
       "      <td>Marina Rodriguez</td>\n",
       "      <td>145</td>\n",
       "      <td>-182</td>\n",
       "      <td>145.000000</td>\n",
       "      <td>54.945055</td>\n",
       "      <td>7/25/2020</td>\n",
       "      <td>Abu Dhabi, Abu Dhabi, United Arab Emirates</td>\n",
       "      <td>United Arab Emirates</td>\n",
       "      <td>Red</td>\n",
       "      <td>...</td>\n",
       "      <td>NaN</td>\n",
       "      <td>NaN</td>\n",
       "      <td>NaN</td>\n",
       "      <td>NaN</td>\n",
       "      <td>Red</td>\n",
       "      <td>S-DEC</td>\n",
       "      <td>NaN</td>\n",
       "      <td>3.0</td>\n",
       "      <td>5:00</td>\n",
       "      <td>900.0</td>\n",
       "    </tr>\n",
       "    <tr>\n",
       "      <th>4</th>\n",
       "      <td>Paul Craig</td>\n",
       "      <td>Gadzhimurad Antigulov</td>\n",
       "      <td>-137</td>\n",
       "      <td>110</td>\n",
       "      <td>72.992701</td>\n",
       "      <td>110.000000</td>\n",
       "      <td>7/25/2020</td>\n",
       "      <td>Abu Dhabi, Abu Dhabi, United Arab Emirates</td>\n",
       "      <td>United Arab Emirates</td>\n",
       "      <td>Red</td>\n",
       "      <td>...</td>\n",
       "      <td>NaN</td>\n",
       "      <td>NaN</td>\n",
       "      <td>NaN</td>\n",
       "      <td>NaN</td>\n",
       "      <td>neither</td>\n",
       "      <td>SUB</td>\n",
       "      <td>Triangle Choke</td>\n",
       "      <td>1.0</td>\n",
       "      <td>2:06</td>\n",
       "      <td>126.0</td>\n",
       "    </tr>\n",
       "  </tbody>\n",
       "</table>\n",
       "<p>5 rows × 113 columns</p>\n",
       "</div>"
      ],
      "text/plain": [
       "          R_fighter              B_fighter  R_odds  B_odds        R_ev  \\\n",
       "0  Robert Whittaker            Darren Till    -130     107   76.923077   \n",
       "1      Mauricio Rua       Rogerio Nogueira    -190     150   52.631579   \n",
       "2   Fabricio Werdum   Alexander Gustafsson     260    -335  260.000000   \n",
       "3     Carla Esparza       Marina Rodriguez     145    -182  145.000000   \n",
       "4        Paul Craig  Gadzhimurad Antigulov    -137     110   72.992701   \n",
       "\n",
       "         B_ev       date                                    location  \\\n",
       "0  107.000000  7/25/2020  Abu Dhabi, Abu Dhabi, United Arab Emirates   \n",
       "1  150.000000  7/25/2020  Abu Dhabi, Abu Dhabi, United Arab Emirates   \n",
       "2   29.850746  7/25/2020  Abu Dhabi, Abu Dhabi, United Arab Emirates   \n",
       "3   54.945055  7/25/2020  Abu Dhabi, Abu Dhabi, United Arab Emirates   \n",
       "4  110.000000  7/25/2020  Abu Dhabi, Abu Dhabi, United Arab Emirates   \n",
       "\n",
       "                country Winner  ...  B_Featherweight_rank B_Bantamweight_rank  \\\n",
       "0  United Arab Emirates    Red  ...                   NaN                 NaN   \n",
       "1  United Arab Emirates    Red  ...                   NaN                 NaN   \n",
       "2  United Arab Emirates    Red  ...                   NaN                 NaN   \n",
       "3  United Arab Emirates    Red  ...                   NaN                 NaN   \n",
       "4  United Arab Emirates    Red  ...                   NaN                 NaN   \n",
       "\n",
       "  B_Flyweight_rank  B_Pound-for-Pound_rank  better_rank  finish  \\\n",
       "0              NaN                     NaN          Red   U-DEC   \n",
       "1              NaN                     NaN          Red   S-DEC   \n",
       "2              NaN                     NaN         Blue     SUB   \n",
       "3              NaN                     NaN          Red   S-DEC   \n",
       "4              NaN                     NaN      neither     SUB   \n",
       "\n",
       "   finish_details  finish_round  finish_round_time  total_fight_time_secs  \n",
       "0             NaN           5.0               5:00                 1500.0  \n",
       "1             NaN           3.0               5:00                  900.0  \n",
       "2          Armbar           1.0               2:30                  150.0  \n",
       "3             NaN           3.0               5:00                  900.0  \n",
       "4  Triangle Choke           1.0               2:06                  126.0  \n",
       "\n",
       "[5 rows x 113 columns]"
      ]
     },
     "execution_count": 169,
     "metadata": {},
     "output_type": "execute_result"
    }
   ],
   "source": [
    "df.head()"
   ]
  },
  {
   "cell_type": "markdown",
   "metadata": {},
   "source": [
    "I'm gonna start with closer reviewing data. First let's separate numeric and categorical variables, check amount of null values.\n",
    "B_odds and R_odds values are strings, will convert those to int."
   ]
  },
  {
   "cell_type": "code",
   "execution_count": 170,
   "metadata": {},
   "outputs": [],
   "source": [
    "df[['B_odds', 'R_odds']] = df[['B_odds', 'R_odds']].astype(int)"
   ]
  },
  {
   "cell_type": "code",
   "execution_count": 171,
   "metadata": {},
   "outputs": [],
   "source": [
    "cat_vars = df.select_dtypes(include=['object']).columns\n",
    "num_vars = df.select_dtypes(exclude=['object']).columns"
   ]
  },
  {
   "cell_type": "code",
   "execution_count": 172,
   "metadata": {
    "scrolled": true
   },
   "outputs": [
    {
     "name": "stdout",
     "output_type": "stream",
     "text": [
      "99\n",
      "R_odds                             0\n",
      "B_odds                             0\n",
      "R_ev                               0\n",
      "B_ev                               0\n",
      "title_bout                         0\n",
      "no_of_rounds                       0\n",
      "B_current_lose_streak              0\n",
      "B_current_win_streak               0\n",
      "B_draw                             0\n",
      "B_avg_SIG_STR_landed             930\n",
      "B_avg_SIG_STR_pct                765\n",
      "B_avg_SUB_ATT                    832\n",
      "B_avg_TD_landed                  833\n",
      "B_avg_TD_pct                     842\n",
      "B_longest_win_streak               0\n",
      "B_losses                           0\n",
      "B_total_rounds_fought              0\n",
      "B_total_title_bouts                0\n",
      "B_win_by_Decision_Majority         0\n",
      "B_win_by_Decision_Split            0\n",
      "B_win_by_Decision_Unanimous        0\n",
      "B_win_by_KO/TKO                    0\n",
      "B_win_by_Submission                0\n",
      "B_win_by_TKO_Doctor_Stoppage       0\n",
      "B_wins                             0\n",
      "B_Height_cms                       0\n",
      "B_Reach_cms                        0\n",
      "B_Weight_lbs                       0\n",
      "R_current_lose_streak              0\n",
      "R_current_win_streak               0\n",
      "R_draw                             0\n",
      "R_avg_SIG_STR_landed             455\n",
      "R_avg_SIG_STR_pct                357\n",
      "R_avg_SUB_ATT                    357\n",
      "R_avg_TD_landed                  357\n",
      "R_avg_TD_pct                     367\n",
      "R_longest_win_streak               0\n",
      "R_losses                           0\n",
      "R_total_rounds_fought              0\n",
      "R_total_title_bouts                0\n",
      "R_win_by_Decision_Majority         0\n",
      "R_win_by_Decision_Split            0\n",
      "R_win_by_Decision_Unanimous        0\n",
      "R_win_by_KO/TKO                    0\n",
      "R_win_by_Submission                0\n",
      "R_win_by_TKO_Doctor_Stoppage       0\n",
      "R_wins                             0\n",
      "R_Height_cms                       0\n",
      "R_Reach_cms                        0\n",
      "R_Weight_lbs                       0\n",
      "R_age                              0\n",
      "B_age                              0\n",
      "lose_streak_dif                    0\n",
      "win_streak_dif                     0\n",
      "longest_win_streak_dif             0\n",
      "win_dif                            0\n",
      "loss_dif                           0\n",
      "total_round_dif                    0\n",
      "total_title_bout_dif               0\n",
      "ko_dif                             0\n",
      "sub_dif                            0\n",
      "height_dif                         0\n",
      "reach_dif                          0\n",
      "age_dif                            0\n",
      "sig_str_dif                        0\n",
      "avg_sub_att_dif                    0\n",
      "avg_td_dif                         0\n",
      "empty_arena                        0\n",
      "constant_1                         0\n",
      "B_match_weightclass_rank        3551\n",
      "R_match_weightclass_rank        3145\n",
      "R_Women's Flyweight_rank        4271\n",
      "R_Women's Featherweight_rank    4301\n",
      "R_Women's Strawweight_rank      4216\n",
      "R_Women's Bantamweight_rank     4203\n",
      "R_Heavyweight_rank              4181\n",
      "R_Light Heavyweight_rank        4184\n",
      "R_Middleweight_rank             4193\n",
      "R_Welterweight_rank             4180\n",
      "R_Lightweight_rank              4184\n",
      "R_Featherweight_rank            4184\n",
      "R_Bantamweight_rank             4186\n",
      "R_Flyweight_rank                4179\n",
      "R_Pound-for-Pound_rank          4166\n",
      "B_Women's Flyweight_rank        4281\n",
      "B_Women's Featherweight_rank    4307\n",
      "B_Women's Strawweight_rank      4255\n",
      "B_Women's Bantamweight_rank     4237\n",
      "B_Heavyweight_rank              4212\n",
      "B_Light Heavyweight_rank        4226\n",
      "B_Middleweight_rank             4221\n",
      "B_Welterweight_rank             4228\n",
      "B_Lightweight_rank              4228\n",
      "B_Featherweight_rank            4226\n",
      "B_Bantamweight_rank             4232\n",
      "B_Flyweight_rank                4222\n",
      "B_Pound-for-Pound_rank          4281\n",
      "finish_round                     225\n",
      "total_fight_time_secs            225\n"
     ]
    }
   ],
   "source": [
    "print(len(num_vars))\n",
    "print(df[num_vars].isna().sum().to_string())"
   ]
  },
  {
   "cell_type": "markdown",
   "metadata": {},
   "source": [
    "99 numeric values in total.\n",
    "\n",
    "Some fighters used to fight in different weights than the current one, thus those also have their former ranks available. In order to keep it simple, I will drop those columns and only keep fight weight rank."
   ]
  },
  {
   "cell_type": "markdown",
   "metadata": {},
   "source": [
    "Match weight rank is also not available for all the fighters. Only top 15 are ranked, the lower the rank the better. We can not replace nan value with 0 here, so I will try to set it to a bigger value (20) and also add new column indicating that a fighter belongs to top 15."
   ]
  },
  {
   "cell_type": "code",
   "execution_count": 173,
   "metadata": {},
   "outputs": [],
   "source": [
    "df[['B_match_weightclass_rank', 'R_match_weightclass_rank']] = df[['B_match_weightclass_rank', 'R_match_weightclass_rank']].fillna(20)"
   ]
  },
  {
   "cell_type": "code",
   "execution_count": 174,
   "metadata": {},
   "outputs": [],
   "source": [
    "df['B_is_in_top15'] = [1 if x < 20 else 0 for x in df['B_match_weightclass_rank']]\n",
    "df['R_is_in_top15'] = [1 if x < 20 else 0 for x in df['R_match_weightclass_rank']]"
   ]
  },
  {
   "cell_type": "markdown",
   "metadata": {},
   "source": [
    "Some rows have \"finish_round\" and \"total_fight_time_secs\" empty, which is weird. These rows also do not have any details about how match finished. I guess I will put zeroes here."
   ]
  },
  {
   "cell_type": "markdown",
   "metadata": {},
   "source": [
    "What we have left with NaNs are submissions and takedowns data which do not happen in all off the fights. Seems legit to replace missing values with 0 here."
   ]
  },
  {
   "cell_type": "code",
   "execution_count": 175,
   "metadata": {},
   "outputs": [],
   "source": [
    "df[num_vars] = df[num_vars].fillna(0)"
   ]
  },
  {
   "cell_type": "markdown",
   "metadata": {},
   "source": [
    "Moving to categorica data. Firt I want to check amount of missing values as well."
   ]
  },
  {
   "cell_type": "code",
   "execution_count": 176,
   "metadata": {},
   "outputs": [
    {
     "data": {
      "text/plain": [
       "R_fighter               0\n",
       "B_fighter               0\n",
       "date                    0\n",
       "location                0\n",
       "country                 0\n",
       "Winner                  0\n",
       "weight_class            0\n",
       "gender                  0\n",
       "B_Stance                0\n",
       "R_Stance                0\n",
       "better_rank             0\n",
       "finish                225\n",
       "finish_details       2311\n",
       "finish_round_time     225\n",
       "dtype: int64"
      ]
     },
     "execution_count": 176,
     "metadata": {},
     "output_type": "execute_result"
    }
   ],
   "source": [
    "df[cat_vars].isna().sum()"
   ]
  },
  {
   "cell_type": "markdown",
   "metadata": {},
   "source": [
    "Same 225 missing values in \"finish\" and \"finish_round_time\". \"finish_details\" missing values seem to be quite legit. Most of the fights end with decision, and there is nothing more to say about it. \n",
    "I will fill missing values with constant string 'undefined' for \"finish\" and \"finish_details\". \n",
    "\n",
    "\"finish_round_time\" intuitively does not seem to belong to categorical. I want to convert it to single number (seconds) and use ans numeric variable."
   ]
  },
  {
   "cell_type": "code",
   "execution_count": 177,
   "metadata": {},
   "outputs": [],
   "source": [
    "df[['finish', 'finish_details']] = df[['finish', 'finish_details']].fillna('undefined')"
   ]
  },
  {
   "cell_type": "code",
   "execution_count": 178,
   "metadata": {},
   "outputs": [],
   "source": [
    "def min_to_sec(s):\n",
    "    ss = str(s).split(':')\n",
    "    return int(ss[0])*60 + int(ss[1])\n",
    "\n",
    "df['finish_round_time'] = df['finish_round_time'].fillna('0:0')\n",
    "df['finish_round_seconds'] = df['finish_round_time'].apply(min_to_sec)"
   ]
  },
  {
   "cell_type": "markdown",
   "metadata": {},
   "source": [
    "I am not going to remove anything from the original dataset, but rather continie building 2 Index entities (num_vars and cat_vars) which I will use further during model building. \n",
    "\n",
    "It's pretty clear that fighters' names hardly influence results, so I will not include those. Same applies to location where the fights is held. \n",
    "\n",
    "I also want to convert \"date\" columns to datetime format for possible future usage during EDA or some auxilary manipulations. This column will not participate in model building."
   ]
  },
  {
   "cell_type": "code",
   "execution_count": 179,
   "metadata": {},
   "outputs": [],
   "source": [
    "df['date'] = pd.to_datetime(df['date'], yearfirst=True, format='%m/%d/%Y')"
   ]
  },
  {
   "cell_type": "markdown",
   "metadata": {},
   "source": [
    "\"gender\" clearly can be boolean variable. I will also turn 'Winner' and 'better_rank' into boolean. 1 will be Blue, 0 - Red."
   ]
  },
  {
   "cell_type": "code",
   "execution_count": 180,
   "metadata": {},
   "outputs": [],
   "source": [
    "df['gender_bool'] = [1 if x == 'MALE' else 0 for x in df['gender']]\n",
    "df['winner_bool'] = [1 if x == 'Blue' else 0 for x in df['Winner']]\n",
    "df['better_rank_bool'] = [1 if x == 'Blue' else 0 for x in df['better_rank']]"
   ]
  },
  {
   "cell_type": "code",
   "execution_count": 184,
   "metadata": {},
   "outputs": [],
   "source": [
    "cat_vars = pd.Index(['country', 'weight_class', 'B_Stance', 'R_Stance', 'finish', 'finish_details'])"
   ]
  },
  {
   "cell_type": "code",
   "execution_count": 216,
   "metadata": {},
   "outputs": [],
   "source": [
    "num_vars = pd.Index(['R_odds', 'B_odds', 'R_ev', 'B_ev', 'title_bout', 'no_of_rounds',\n",
    "       'B_current_lose_streak', 'B_current_win_streak', 'B_draw',\n",
    "       'B_avg_SIG_STR_landed', 'B_avg_SIG_STR_pct', 'B_avg_SUB_ATT',\n",
    "       'B_avg_TD_landed', 'B_avg_TD_pct', 'B_longest_win_streak', 'B_losses',\n",
    "       'B_total_rounds_fought', 'B_total_title_bouts',\n",
    "       'B_win_by_Decision_Majority', 'B_win_by_Decision_Split',\n",
    "       'B_win_by_Decision_Unanimous', 'B_win_by_KO/TKO', 'B_win_by_Submission',\n",
    "       'B_win_by_TKO_Doctor_Stoppage', 'B_wins', 'B_Height_cms', 'B_Reach_cms',\n",
    "       'B_Weight_lbs', 'R_current_lose_streak', 'R_current_win_streak',\n",
    "       'R_draw', 'R_avg_SIG_STR_landed', 'R_avg_SIG_STR_pct', 'R_avg_SUB_ATT',\n",
    "       'R_avg_TD_landed', 'R_avg_TD_pct', 'R_longest_win_streak', 'R_losses',\n",
    "       'R_total_rounds_fought', 'R_total_title_bouts',\n",
    "       'R_win_by_Decision_Majority', 'R_win_by_Decision_Split',\n",
    "       'R_win_by_Decision_Unanimous', 'R_win_by_KO/TKO', 'R_win_by_Submission',\n",
    "       'R_win_by_TKO_Doctor_Stoppage', 'R_wins', 'R_Height_cms', 'R_Reach_cms',\n",
    "       'R_Weight_lbs', 'R_age', 'B_age', 'lose_streak_dif', 'win_streak_dif',\n",
    "       'longest_win_streak_dif', 'win_dif', 'loss_dif', 'total_round_dif',\n",
    "       'total_title_bout_dif', 'ko_dif', 'sub_dif', 'height_dif', 'reach_dif',\n",
    "       'age_dif', 'sig_str_dif', 'avg_sub_att_dif', 'avg_td_dif',\n",
    "       'empty_arena', 'finish_round', 'total_fight_time_secs', 'B_is_in_top15', \n",
    "        'R_is_in_top15', 'finish_round_seconds', 'gender_bool', \n",
    "        'better_rank_bool'])"
   ]
  },
  {
   "cell_type": "code",
   "execution_count": 185,
   "metadata": {},
   "outputs": [
    {
     "data": {
      "text/html": [
       "<div>\n",
       "<style scoped>\n",
       "    .dataframe tbody tr th:only-of-type {\n",
       "        vertical-align: middle;\n",
       "    }\n",
       "\n",
       "    .dataframe tbody tr th {\n",
       "        vertical-align: top;\n",
       "    }\n",
       "\n",
       "    .dataframe thead th {\n",
       "        text-align: right;\n",
       "    }\n",
       "</style>\n",
       "<table border=\"1\" class=\"dataframe\">\n",
       "  <thead>\n",
       "    <tr style=\"text-align: right;\">\n",
       "      <th></th>\n",
       "      <th>country</th>\n",
       "      <th>weight_class</th>\n",
       "      <th>B_Stance</th>\n",
       "      <th>R_Stance</th>\n",
       "      <th>finish</th>\n",
       "      <th>finish_details</th>\n",
       "    </tr>\n",
       "  </thead>\n",
       "  <tbody>\n",
       "    <tr>\n",
       "      <th>0</th>\n",
       "      <td>United Arab Emirates</td>\n",
       "      <td>Middleweight</td>\n",
       "      <td>Southpaw</td>\n",
       "      <td>Orthodox</td>\n",
       "      <td>U-DEC</td>\n",
       "      <td>undefined</td>\n",
       "    </tr>\n",
       "    <tr>\n",
       "      <th>1</th>\n",
       "      <td>United Arab Emirates</td>\n",
       "      <td>Light Heavyweight</td>\n",
       "      <td>Southpaw</td>\n",
       "      <td>Orthodox</td>\n",
       "      <td>S-DEC</td>\n",
       "      <td>undefined</td>\n",
       "    </tr>\n",
       "    <tr>\n",
       "      <th>2</th>\n",
       "      <td>United Arab Emirates</td>\n",
       "      <td>Heavyweight</td>\n",
       "      <td>Orthodox</td>\n",
       "      <td>Orthodox</td>\n",
       "      <td>SUB</td>\n",
       "      <td>Armbar</td>\n",
       "    </tr>\n",
       "    <tr>\n",
       "      <th>3</th>\n",
       "      <td>United Arab Emirates</td>\n",
       "      <td>Women's Strawweight</td>\n",
       "      <td>Orthodox</td>\n",
       "      <td>Orthodox</td>\n",
       "      <td>S-DEC</td>\n",
       "      <td>undefined</td>\n",
       "    </tr>\n",
       "    <tr>\n",
       "      <th>4</th>\n",
       "      <td>United Arab Emirates</td>\n",
       "      <td>Light Heavyweight</td>\n",
       "      <td>Orthodox</td>\n",
       "      <td>Orthodox</td>\n",
       "      <td>SUB</td>\n",
       "      <td>Triangle Choke</td>\n",
       "    </tr>\n",
       "  </tbody>\n",
       "</table>\n",
       "</div>"
      ],
      "text/plain": [
       "                country         weight_class  B_Stance  R_Stance finish  \\\n",
       "0  United Arab Emirates         Middleweight  Southpaw  Orthodox  U-DEC   \n",
       "1  United Arab Emirates    Light Heavyweight  Southpaw  Orthodox  S-DEC   \n",
       "2  United Arab Emirates          Heavyweight  Orthodox  Orthodox    SUB   \n",
       "3  United Arab Emirates  Women's Strawweight  Orthodox  Orthodox  S-DEC   \n",
       "4  United Arab Emirates    Light Heavyweight  Orthodox  Orthodox    SUB   \n",
       "\n",
       "   finish_details  \n",
       "0       undefined  \n",
       "1       undefined  \n",
       "2          Armbar  \n",
       "3       undefined  \n",
       "4  Triangle Choke  "
      ]
     },
     "execution_count": 185,
     "metadata": {},
     "output_type": "execute_result"
    }
   ],
   "source": [
    "df[cat_vars].head()"
   ]
  },
  {
   "cell_type": "code",
   "execution_count": 186,
   "metadata": {
    "scrolled": true
   },
   "outputs": [
    {
     "name": "stdout",
     "output_type": "stream",
     "text": [
      "country\n",
      " USA                     2450\n",
      " Brazil                   400\n",
      " Canada                   337\n",
      " United Kingdom           165\n",
      " Australia                160\n",
      "USA                       100\n",
      " Sweden                    72\n",
      " Mexico                    70\n",
      " China                     61\n",
      " Germany                   54\n",
      " Japan                     53\n",
      "United Arab Emirates       51\n",
      " Singapore                 45\n",
      " Russia                    36\n",
      " New Zealand               33\n",
      " United Arab Emirates      29\n",
      " Netherlands               25\n",
      " South Korea               24\n",
      " Poland                    23\n",
      " Ireland                   19\n",
      " Croatia                   13\n",
      " Czech Republic            13\n",
      " Uruguay                   13\n",
      " Denmark                   13\n",
      " Chile                     13\n",
      " Argentina                 12\n",
      " Philippines               12\n",
      "Brazil                     11\n",
      "Name: country, dtype: int64\n",
      "weight_class\n",
      "Lightweight              789\n",
      "Welterweight             759\n",
      "Middleweight             516\n",
      "Featherweight            498\n",
      "Bantamweight             425\n",
      "Light Heavyweight        349\n",
      "Heavyweight              334\n",
      "Flyweight                209\n",
      "Women's Strawweight      169\n",
      "Women's Bantamweight     133\n",
      "Women's Flyweight         88\n",
      "Catch Weight              23\n",
      "Women's Featherweight     15\n",
      "Name: weight_class, dtype: int64\n",
      "B_Stance\n",
      "Orthodox       3247\n",
      "Southpaw        874\n",
      "Switch          184\n",
      "Switch            1\n",
      "Open Stance       1\n",
      "Name: B_Stance, dtype: int64\n",
      "R_Stance\n",
      "Orthodox       3288\n",
      "Southpaw        871\n",
      "Switch          144\n",
      "Open Stance       4\n",
      "Name: R_Stance, dtype: int64\n",
      "finish\n",
      "U-DEC         1549\n",
      "KO/TKO        1295\n",
      "SUB            761\n",
      "S-DEC          437\n",
      "undefined      225\n",
      "M-DEC           26\n",
      "DQ              12\n",
      "Overturned       2\n",
      "Name: finish, dtype: int64\n",
      "finish_details\n",
      "undefined             2311\n",
      "Punch                  487\n",
      "Punches                431\n",
      "Rear Naked Choke       311\n",
      "Guillotine Choke       143\n",
      "Kick                   113\n",
      "Armbar                  89\n",
      "Knee                    64\n",
      "Arm Triangle            58\n",
      "Elbows                  56\n",
      "Triangle Choke          46\n",
      "Elbow                   27\n",
      "D'Arce Choke            24\n",
      "Kimura                  20\n",
      "Flying Knee             19\n",
      "Knees                   16\n",
      "Other - Choke           14\n",
      "Anaconda Choke          14\n",
      "Kneebar                 12\n",
      "Heel Hook               10\n",
      "Slam                     6\n",
      "Spinning Back Kick       6\n",
      "Spinning Back Fist       6\n",
      "Neck Crank               5\n",
      "Other - Lock             5\n",
      "North-South Choke        4\n",
      "Injury                   3\n",
      "Omoplata                 2\n",
      "Kicks                    2\n",
      "Ankle Lock               1\n",
      "Peruvian Necktie         1\n",
      "Keylock                  1\n",
      "Name: finish_details, dtype: int64\n"
     ]
    }
   ],
   "source": [
    "for ind in cat_vars:\n",
    "    print(ind)\n",
    "    print(df[ind].value_counts())"
   ]
  },
  {
   "cell_type": "markdown",
   "metadata": {},
   "source": [
    "Some country names have leading whitespace, need to clean this up."
   ]
  },
  {
   "cell_type": "code",
   "execution_count": 187,
   "metadata": {},
   "outputs": [],
   "source": [
    "df['country'] = df['country'].apply(lambda x: str(x).strip())"
   ]
  },
  {
   "cell_type": "markdown",
   "metadata": {},
   "source": [
    "All columns seem to have reasonably low cardinality, so we can apply One Hot encoding (or dummy variables) when building the model."
   ]
  },
  {
   "cell_type": "markdown",
   "metadata": {},
   "source": [
    "## IT'S TIME  (in Bruce Buffer's voice)##"
   ]
  },
  {
   "cell_type": "markdown",
   "metadata": {},
   "source": [
    "I will start my analysis trying to answer the following question: \n",
    "\n",
    "### What influences fight result the most?\n",
    "\n",
    "Do I have to look for something complicated or is there a simple winning strategy?\n",
    "\n",
    "Main idea of this whole analysis is to see if I can bet UFC fight results with some profit. What if I always keep the same strategy? Say, always bet the guy having more wins in past will win? I can hardly imagine myself betting for 10 years, so let's take 2019 and 2020 only."
   ]
  },
  {
   "cell_type": "code",
   "execution_count": 199,
   "metadata": {},
   "outputs": [
    {
     "name": "stdout",
     "output_type": "stream",
     "text": [
      "-4260.27 USD\n"
     ]
    }
   ],
   "source": [
    "df_19_20 = df[df['date']>='2019-01-01']\n",
    "bet_win = [(x['B_ev']+100)*x['winner_bool'] if x['win_dif'] > 0 else (x['R_ev']+100)*(1-x['winner_bool']) for _, x in df_19_20.iterrows()]\n",
    "print(\"{:.2f} USD\".format(np.sum(bet_win)-100*df_19_20.shape[0]))"
   ]
  },
  {
   "cell_type": "markdown",
   "metadata": {},
   "source": [
    "Alright, going with this strategy I would lose 4k in less than 2 years. Does not look like a success story for me.\n",
    "\n",
    "Maybe the yonger fighter?"
   ]
  },
  {
   "cell_type": "code",
   "execution_count": 200,
   "metadata": {},
   "outputs": [
    {
     "name": "stdout",
     "output_type": "stream",
     "text": [
      "-5243.01 USD\n"
     ]
    }
   ],
   "source": [
    "bet_win = [(x['B_ev']+100)*x['winner_bool'] if x['age_dif'] < 0 else (x['R_ev']+100)*(1-x['winner_bool']) for _, x in df_19_20.iterrows()]\n",
    "print(\"{:.2f} USD\".format(np.sum(bet_win)-100*df_19_20.shape[0]))"
   ]
  },
  {
   "cell_type": "markdown",
   "metadata": {},
   "source": [
    "Having longer reach?"
   ]
  },
  {
   "cell_type": "code",
   "execution_count": 201,
   "metadata": {},
   "outputs": [
    {
     "name": "stdout",
     "output_type": "stream",
     "text": [
      "-2174.17 USD\n"
     ]
    }
   ],
   "source": [
    "bet_win = [(x['B_ev']+100)*x['winner_bool'] if x['reach_dif'] > 0 else (x['R_ev']+100)*(1-x['winner_bool']) for _, x in df_19_20.iterrows()]\n",
    "print(\"{:.2f} USD\".format(np.sum(bet_win)-100*df_19_20.shape[0]))"
   ]
  },
  {
   "cell_type": "markdown",
   "metadata": {},
   "source": [
    "Maybe the one showing greater average amount of significant strikes?"
   ]
  },
  {
   "cell_type": "code",
   "execution_count": 202,
   "metadata": {},
   "outputs": [
    {
     "name": "stdout",
     "output_type": "stream",
     "text": [
      "3615.10 USD\n"
     ]
    }
   ],
   "source": [
    "bet_win = [(x['B_ev']+100)*x['winner_bool'] if x['sig_str_dif'] > 0 else (x['R_ev']+100)*(1-x['winner_bool']) for _, x in df_19_20.iterrows()]\n",
    "print(\"{:.2f} USD\".format(np.sum(bet_win)-100*df_19_20.shape[0]))"
   ]
  },
  {
   "cell_type": "markdown",
   "metadata": {},
   "source": [
    "Finally something! Won't make me a millionaire, but better than losing money."
   ]
  },
  {
   "cell_type": "markdown",
   "metadata": {},
   "source": [
    "But what does affect the match result in the end? Instead of making guesses let me build the model!\n",
    "\n",
    "Task can be treated as binary classification. In the dataframe we always have data available in fixed order: first it's fighter in the blue corner, then - in the right. Target varible 'winner_bool' is 1 if Blue wins, 0 - if Right. Thus B_ columns can be treated as 'fighter data', and R_ columns - as 'opponent data' and we want to know whether the fighter wins or not.\n",
    "\n",
    "Some of the variables should be removed before building the model. If we want to predict result of the match, we can not use information about whether the match finished with decision or submission and in which round it finished. Numeric values also should be stardatized, categorical values should be encoded."
   ]
  },
  {
   "cell_type": "code",
   "execution_count": 249,
   "metadata": {},
   "outputs": [],
   "source": [
    "cat_vars = pd.Index(['weight_class', 'B_Stance', 'R_Stance'])\n",
    "num_vars_no_finish = num_vars.drop(['finish_round', 'total_fight_time_secs', 'finish_round_seconds'])"
   ]
  },
  {
   "cell_type": "code",
   "execution_count": 207,
   "metadata": {},
   "outputs": [],
   "source": [
    "X = pd.get_dummies(df[cat_vars])\n",
    "X = pd.concat([df[num_vars_no_finish], X], axis=1)\n",
    "y = df['winner_bool']\n",
    "#X_train, X_test, y_train, y_test = train_test_split(X, y, test_size=0.3, random_state=123)"
   ]
  },
  {
   "cell_type": "code",
   "execution_count": 208,
   "metadata": {
    "scrolled": true
   },
   "outputs": [],
   "source": [
    "scaler = MinMaxScaler()\n",
    "#X_train.loc[:, num_vars] = scaler.fit_transform(X_train[num_vars])\n",
    "#X_test.loc[:, num_vars] = scaler.transform(X_test[num_vars])\n",
    "X = scaler.fit_transform(X)"
   ]
  },
  {
   "cell_type": "markdown",
   "metadata": {},
   "source": [
    "We can now build simple Logistic Regression model. Instead of splitting into train and test sets I will use k-fold cross-validation strategy with 3 folds."
   ]
  },
  {
   "cell_type": "code",
   "execution_count": 209,
   "metadata": {},
   "outputs": [
    {
     "data": {
      "text/plain": [
       "0.6468558617142081"
      ]
     },
     "execution_count": 209,
     "metadata": {},
     "output_type": "execute_result"
    }
   ],
   "source": [
    "log_reg = LogisticRegression()\n",
    "#log_reg.fit(X_train, y_train)\n",
    "#y_pred = log_reg.predict(X_test)\n",
    "#print(accuracy_score(y_test, y_pred))\n",
    "cross_val_score(log_reg, X, y, cv=3).mean()"
   ]
  },
  {
   "cell_type": "markdown",
   "metadata": {},
   "source": [
    "This does not seem to give too good accuracy. Regression is not the only model we can build. I also want to try Random Forest and Gradient Boosting."
   ]
  },
  {
   "cell_type": "code",
   "execution_count": 210,
   "metadata": {},
   "outputs": [
    {
     "data": {
      "text/plain": [
       "0.6466230883956272"
      ]
     },
     "execution_count": 210,
     "metadata": {},
     "output_type": "execute_result"
    }
   ],
   "source": [
    "gb_clf = GradientBoostingClassifier()\n",
    "#gb_clf.fit(X_train, y_train)\n",
    "#y_pred = gb_clf.predict(X_test)\n",
    "#print(accuracy_score(y_test, y_pred))\n",
    "cross_val_score(gb_clf, X, y, cv=3).mean()"
   ]
  },
  {
   "cell_type": "code",
   "execution_count": 211,
   "metadata": {},
   "outputs": [
    {
     "data": {
      "text/plain": [
       "0.654747346319464"
      ]
     },
     "execution_count": 211,
     "metadata": {},
     "output_type": "execute_result"
    }
   ],
   "source": [
    "rf_clf = RandomForestClassifier()\n",
    "#rf_clf.fit(X_train, y_train)\n",
    "#y_pred = rf_clf.predict(X_test)\n",
    "#print(accuracy_score(y_test, y_pred))\n",
    "cross_val_score(rf_clf, X, y, cv=3).mean()"
   ]
  },
  {
   "cell_type": "markdown",
   "metadata": {},
   "source": [
    "I tried tuning some hyperparameters here, which made no significant improvements, so I will stick to default values. Looks like without additional precessing and maybe feature engineering this is the maximum we can get.\n",
    "\n",
    "Even so, I want to check which columns make the most contribution."
   ]
  },
  {
   "cell_type": "code",
   "execution_count": 257,
   "metadata": {},
   "outputs": [],
   "source": [
    "def train_model(df, cat_vars, num_vars, model):\n",
    "    \"\"\"\n",
    "    encodes cat_vars, scales num_vars, performs train-test split, trains model.\n",
    "    return model coefficients and dataframe columns\n",
    "    \"\"\"\n",
    "    X = pd.get_dummies(df[cat_vars])\n",
    "    X = pd.concat([df[num_vars], X], axis=1)\n",
    "    X_train, X_test, y_train, y_test = train_test_split(X, y, test_size=0.3, random_state=123)\n",
    "    scaler = MinMaxScaler()\n",
    "    X_train[num_vars] = scaler.fit_transform(X_train[num_vars])\n",
    "    X_test[num_vars] = scaler.transform(X_test[num_vars])\n",
    "    model.fit(X_train, y_train)\n",
    "    y_pred = model.predict(X_test)\n",
    "    print(accuracy_score(y_test, y_pred))\n",
    "    return model.coef_[0], X_train.columns"
   ]
  },
  {
   "cell_type": "code",
   "execution_count": 260,
   "metadata": {},
   "outputs": [],
   "source": [
    "def get_coef(model_coef, df_columns):\n",
    "    \"\"\"\n",
    "    builds dataframe containing model coefficients for dataframe columns\n",
    "    \"\"\"\n",
    "    coef_df = pd.DataFrame()\n",
    "    coef_df['column'] = df_columns\n",
    "    coef_df['coef'] = model_coef\n",
    "    coef_df['abs_coefs'] = np.abs(model_coef)\n",
    "    coef_df = coef_df.sort_values('abs_coefs', ascending=False)\n",
    "    return coef_df"
   ]
  },
  {
   "cell_type": "code",
   "execution_count": 261,
   "metadata": {},
   "outputs": [
    {
     "name": "stdout",
     "output_type": "stream",
     "text": [
      "0.6581593194122196\n"
     ]
    },
    {
     "data": {
      "text/html": [
       "<div>\n",
       "<style scoped>\n",
       "    .dataframe tbody tr th:only-of-type {\n",
       "        vertical-align: middle;\n",
       "    }\n",
       "\n",
       "    .dataframe tbody tr th {\n",
       "        vertical-align: top;\n",
       "    }\n",
       "\n",
       "    .dataframe thead th {\n",
       "        text-align: right;\n",
       "    }\n",
       "</style>\n",
       "<table border=\"1\" class=\"dataframe\">\n",
       "  <thead>\n",
       "    <tr style=\"text-align: right;\">\n",
       "      <th></th>\n",
       "      <th>column</th>\n",
       "      <th>coef</th>\n",
       "      <th>abs_coefs</th>\n",
       "    </tr>\n",
       "  </thead>\n",
       "  <tbody>\n",
       "    <tr>\n",
       "      <th>3</th>\n",
       "      <td>B_ev</td>\n",
       "      <td>-2.834850</td>\n",
       "      <td>2.834850</td>\n",
       "    </tr>\n",
       "    <tr>\n",
       "      <th>2</th>\n",
       "      <td>R_ev</td>\n",
       "      <td>1.850180</td>\n",
       "      <td>1.850180</td>\n",
       "    </tr>\n",
       "    <tr>\n",
       "      <th>0</th>\n",
       "      <td>R_odds</td>\n",
       "      <td>1.045692</td>\n",
       "      <td>1.045692</td>\n",
       "    </tr>\n",
       "    <tr>\n",
       "      <th>27</th>\n",
       "      <td>B_Weight_lbs</td>\n",
       "      <td>1.039969</td>\n",
       "      <td>1.039969</td>\n",
       "    </tr>\n",
       "    <tr>\n",
       "      <th>41</th>\n",
       "      <td>R_win_by_Decision_Split</td>\n",
       "      <td>0.946774</td>\n",
       "      <td>0.946774</td>\n",
       "    </tr>\n",
       "    <tr>\n",
       "      <th>34</th>\n",
       "      <td>R_avg_TD_landed</td>\n",
       "      <td>-0.863705</td>\n",
       "      <td>0.863705</td>\n",
       "    </tr>\n",
       "    <tr>\n",
       "      <th>20</th>\n",
       "      <td>B_win_by_Decision_Unanimous</td>\n",
       "      <td>0.852874</td>\n",
       "      <td>0.852874</td>\n",
       "    </tr>\n",
       "    <tr>\n",
       "      <th>1</th>\n",
       "      <td>B_odds</td>\n",
       "      <td>-0.832704</td>\n",
       "      <td>0.832704</td>\n",
       "    </tr>\n",
       "    <tr>\n",
       "      <th>7</th>\n",
       "      <td>B_current_win_streak</td>\n",
       "      <td>0.721106</td>\n",
       "      <td>0.721106</td>\n",
       "    </tr>\n",
       "    <tr>\n",
       "      <th>30</th>\n",
       "      <td>R_draw</td>\n",
       "      <td>-0.682088</td>\n",
       "      <td>0.682088</td>\n",
       "    </tr>\n",
       "  </tbody>\n",
       "</table>\n",
       "</div>"
      ],
      "text/plain": [
       "                         column      coef  abs_coefs\n",
       "3                          B_ev -2.834850   2.834850\n",
       "2                          R_ev  1.850180   1.850180\n",
       "0                        R_odds  1.045692   1.045692\n",
       "27                 B_Weight_lbs  1.039969   1.039969\n",
       "41      R_win_by_Decision_Split  0.946774   0.946774\n",
       "34              R_avg_TD_landed -0.863705   0.863705\n",
       "20  B_win_by_Decision_Unanimous  0.852874   0.852874\n",
       "1                        B_odds -0.832704   0.832704\n",
       "7          B_current_win_streak  0.721106   0.721106\n",
       "30                       R_draw -0.682088   0.682088"
      ]
     },
     "execution_count": 261,
     "metadata": {},
     "output_type": "execute_result"
    }
   ],
   "source": [
    "log_reg_coef, X_columns = train_model(df, cat_vars, num_vars_no_finish, LogisticRegression())\n",
    "coef_df = get_coef(log_reg_coef, X_columns)\n",
    "coef_df.head(10)"
   ]
  },
  {
   "cell_type": "markdown",
   "metadata": {},
   "source": [
    "What a surprise (no)! Most meaningful variables turn out to be the ones related to odds. \n",
    "\n",
    "Interenting enough. If we set logistic regression to use L1 penalty which eliminates features rather that optimizes coefficients, it removes \"_odd\" features."
   ]
  },
  {
   "cell_type": "code",
   "execution_count": 262,
   "metadata": {},
   "outputs": [
    {
     "name": "stdout",
     "output_type": "stream",
     "text": [
      "0.6697602474864656\n"
     ]
    },
    {
     "data": {
      "text/html": [
       "<div>\n",
       "<style scoped>\n",
       "    .dataframe tbody tr th:only-of-type {\n",
       "        vertical-align: middle;\n",
       "    }\n",
       "\n",
       "    .dataframe tbody tr th {\n",
       "        vertical-align: top;\n",
       "    }\n",
       "\n",
       "    .dataframe thead th {\n",
       "        text-align: right;\n",
       "    }\n",
       "</style>\n",
       "<table border=\"1\" class=\"dataframe\">\n",
       "  <thead>\n",
       "    <tr style=\"text-align: right;\">\n",
       "      <th></th>\n",
       "      <th>column</th>\n",
       "      <th>coef</th>\n",
       "      <th>abs_coefs</th>\n",
       "    </tr>\n",
       "  </thead>\n",
       "  <tbody>\n",
       "    <tr>\n",
       "      <th>3</th>\n",
       "      <td>B_ev</td>\n",
       "      <td>-4.744729</td>\n",
       "      <td>4.744729</td>\n",
       "    </tr>\n",
       "    <tr>\n",
       "      <th>2</th>\n",
       "      <td>R_ev</td>\n",
       "      <td>2.361859</td>\n",
       "      <td>2.361859</td>\n",
       "    </tr>\n",
       "    <tr>\n",
       "      <th>34</th>\n",
       "      <td>R_avg_TD_landed</td>\n",
       "      <td>-1.018101</td>\n",
       "      <td>1.018101</td>\n",
       "    </tr>\n",
       "    <tr>\n",
       "      <th>41</th>\n",
       "      <td>R_win_by_Decision_Split</td>\n",
       "      <td>0.867094</td>\n",
       "      <td>0.867094</td>\n",
       "    </tr>\n",
       "    <tr>\n",
       "      <th>27</th>\n",
       "      <td>B_Weight_lbs</td>\n",
       "      <td>0.863464</td>\n",
       "      <td>0.863464</td>\n",
       "    </tr>\n",
       "    <tr>\n",
       "      <th>14</th>\n",
       "      <td>B_longest_win_streak</td>\n",
       "      <td>-0.811024</td>\n",
       "      <td>0.811024</td>\n",
       "    </tr>\n",
       "    <tr>\n",
       "      <th>20</th>\n",
       "      <td>B_win_by_Decision_Unanimous</td>\n",
       "      <td>0.647807</td>\n",
       "      <td>0.647807</td>\n",
       "    </tr>\n",
       "    <tr>\n",
       "      <th>7</th>\n",
       "      <td>B_current_win_streak</td>\n",
       "      <td>0.616956</td>\n",
       "      <td>0.616956</td>\n",
       "    </tr>\n",
       "    <tr>\n",
       "      <th>51</th>\n",
       "      <td>B_age</td>\n",
       "      <td>-0.602495</td>\n",
       "      <td>0.602495</td>\n",
       "    </tr>\n",
       "    <tr>\n",
       "      <th>30</th>\n",
       "      <td>R_draw</td>\n",
       "      <td>-0.544115</td>\n",
       "      <td>0.544115</td>\n",
       "    </tr>\n",
       "  </tbody>\n",
       "</table>\n",
       "</div>"
      ],
      "text/plain": [
       "                         column      coef  abs_coefs\n",
       "3                          B_ev -4.744729   4.744729\n",
       "2                          R_ev  2.361859   2.361859\n",
       "34              R_avg_TD_landed -1.018101   1.018101\n",
       "41      R_win_by_Decision_Split  0.867094   0.867094\n",
       "27                 B_Weight_lbs  0.863464   0.863464\n",
       "14         B_longest_win_streak -0.811024   0.811024\n",
       "20  B_win_by_Decision_Unanimous  0.647807   0.647807\n",
       "7          B_current_win_streak  0.616956   0.616956\n",
       "51                        B_age -0.602495   0.602495\n",
       "30                       R_draw -0.544115   0.544115"
      ]
     },
     "execution_count": 262,
     "metadata": {},
     "output_type": "execute_result"
    }
   ],
   "source": [
    "log_reg_coef, X_columns = train_model(df, cat_vars, num_vars_no_finish, \n",
    "                           LogisticRegression(solver='liblinear', penalty='l1'))\n",
    "coef_df = get_coef(log_reg_coef, X_columns)\n",
    "coef_df.head(10)"
   ]
  },
  {
   "cell_type": "markdown",
   "metadata": {},
   "source": [
    "Which of course makes sense. There is strong connection between ev and odd features. It we calculate correlation (I use Spearman correlation here as it is reasonable to assume relation is monotonous, not necessarily linear), we can clearly see its absolute value is very close to 1."
   ]
  },
  {
   "cell_type": "code",
   "execution_count": 264,
   "metadata": {},
   "outputs": [
    {
     "data": {
      "text/html": [
       "<div>\n",
       "<style scoped>\n",
       "    .dataframe tbody tr th:only-of-type {\n",
       "        vertical-align: middle;\n",
       "    }\n",
       "\n",
       "    .dataframe tbody tr th {\n",
       "        vertical-align: top;\n",
       "    }\n",
       "\n",
       "    .dataframe thead th {\n",
       "        text-align: right;\n",
       "    }\n",
       "</style>\n",
       "<table border=\"1\" class=\"dataframe\">\n",
       "  <thead>\n",
       "    <tr style=\"text-align: right;\">\n",
       "      <th></th>\n",
       "      <th>B_ev</th>\n",
       "      <th>R_ev</th>\n",
       "      <th>B_odds</th>\n",
       "      <th>R_odds</th>\n",
       "    </tr>\n",
       "  </thead>\n",
       "  <tbody>\n",
       "    <tr>\n",
       "      <th>B_ev</th>\n",
       "      <td>1.000000</td>\n",
       "      <td>-0.998422</td>\n",
       "      <td>0.999973</td>\n",
       "      <td>-0.998386</td>\n",
       "    </tr>\n",
       "    <tr>\n",
       "      <th>R_ev</th>\n",
       "      <td>-0.998422</td>\n",
       "      <td>1.000000</td>\n",
       "      <td>-0.998391</td>\n",
       "      <td>0.999963</td>\n",
       "    </tr>\n",
       "    <tr>\n",
       "      <th>B_odds</th>\n",
       "      <td>0.999973</td>\n",
       "      <td>-0.998391</td>\n",
       "      <td>1.000000</td>\n",
       "      <td>-0.998415</td>\n",
       "    </tr>\n",
       "    <tr>\n",
       "      <th>R_odds</th>\n",
       "      <td>-0.998386</td>\n",
       "      <td>0.999963</td>\n",
       "      <td>-0.998415</td>\n",
       "      <td>1.000000</td>\n",
       "    </tr>\n",
       "  </tbody>\n",
       "</table>\n",
       "</div>"
      ],
      "text/plain": [
       "            B_ev      R_ev    B_odds    R_odds\n",
       "B_ev    1.000000 -0.998422  0.999973 -0.998386\n",
       "R_ev   -0.998422  1.000000 -0.998391  0.999963\n",
       "B_odds  0.999973 -0.998391  1.000000 -0.998415\n",
       "R_odds -0.998386  0.999963 -0.998415  1.000000"
      ]
     },
     "execution_count": 264,
     "metadata": {},
     "output_type": "execute_result"
    }
   ],
   "source": [
    "df[['B_ev', 'R_ev', 'B_odds', 'R_odds']].corr(method='spearman')"
   ]
  },
  {
   "cell_type": "markdown",
   "metadata": {},
   "source": [
    "Assuming strong correlation between all 4, we can only leave one of these in the model."
   ]
  },
  {
   "cell_type": "code",
   "execution_count": 265,
   "metadata": {},
   "outputs": [
    {
     "name": "stdout",
     "output_type": "stream",
     "text": [
      "0.6488785769528229\n"
     ]
    },
    {
     "data": {
      "text/html": [
       "<div>\n",
       "<style scoped>\n",
       "    .dataframe tbody tr th:only-of-type {\n",
       "        vertical-align: middle;\n",
       "    }\n",
       "\n",
       "    .dataframe tbody tr th {\n",
       "        vertical-align: top;\n",
       "    }\n",
       "\n",
       "    .dataframe thead th {\n",
       "        text-align: right;\n",
       "    }\n",
       "</style>\n",
       "<table border=\"1\" class=\"dataframe\">\n",
       "  <thead>\n",
       "    <tr style=\"text-align: right;\">\n",
       "      <th></th>\n",
       "      <th>column</th>\n",
       "      <th>coef</th>\n",
       "      <th>abs_coefs</th>\n",
       "    </tr>\n",
       "  </thead>\n",
       "  <tbody>\n",
       "    <tr>\n",
       "      <th>0</th>\n",
       "      <td>B_odds</td>\n",
       "      <td>-5.210548</td>\n",
       "      <td>5.210548</td>\n",
       "    </tr>\n",
       "    <tr>\n",
       "      <th>24</th>\n",
       "      <td>B_Weight_lbs</td>\n",
       "      <td>1.054625</td>\n",
       "      <td>1.054625</td>\n",
       "    </tr>\n",
       "    <tr>\n",
       "      <th>38</th>\n",
       "      <td>R_win_by_Decision_Split</td>\n",
       "      <td>0.999226</td>\n",
       "      <td>0.999226</td>\n",
       "    </tr>\n",
       "    <tr>\n",
       "      <th>17</th>\n",
       "      <td>B_win_by_Decision_Unanimous</td>\n",
       "      <td>0.876141</td>\n",
       "      <td>0.876141</td>\n",
       "    </tr>\n",
       "    <tr>\n",
       "      <th>31</th>\n",
       "      <td>R_avg_TD_landed</td>\n",
       "      <td>-0.875505</td>\n",
       "      <td>0.875505</td>\n",
       "    </tr>\n",
       "    <tr>\n",
       "      <th>4</th>\n",
       "      <td>B_current_win_streak</td>\n",
       "      <td>0.688672</td>\n",
       "      <td>0.688672</td>\n",
       "    </tr>\n",
       "    <tr>\n",
       "      <th>11</th>\n",
       "      <td>B_longest_win_streak</td>\n",
       "      <td>-0.674845</td>\n",
       "      <td>0.674845</td>\n",
       "    </tr>\n",
       "    <tr>\n",
       "      <th>27</th>\n",
       "      <td>R_draw</td>\n",
       "      <td>-0.656884</td>\n",
       "      <td>0.656884</td>\n",
       "    </tr>\n",
       "    <tr>\n",
       "      <th>63</th>\n",
       "      <td>avg_td_dif</td>\n",
       "      <td>0.642496</td>\n",
       "      <td>0.642496</td>\n",
       "    </tr>\n",
       "    <tr>\n",
       "      <th>19</th>\n",
       "      <td>B_win_by_Submission</td>\n",
       "      <td>0.637838</td>\n",
       "      <td>0.637838</td>\n",
       "    </tr>\n",
       "  </tbody>\n",
       "</table>\n",
       "</div>"
      ],
      "text/plain": [
       "                         column      coef  abs_coefs\n",
       "0                        B_odds -5.210548   5.210548\n",
       "24                 B_Weight_lbs  1.054625   1.054625\n",
       "38      R_win_by_Decision_Split  0.999226   0.999226\n",
       "17  B_win_by_Decision_Unanimous  0.876141   0.876141\n",
       "31              R_avg_TD_landed -0.875505   0.875505\n",
       "4          B_current_win_streak  0.688672   0.688672\n",
       "11         B_longest_win_streak -0.674845   0.674845\n",
       "27                       R_draw -0.656884   0.656884\n",
       "63                   avg_td_dif  0.642496   0.642496\n",
       "19          B_win_by_Submission  0.637838   0.637838"
      ]
     },
     "execution_count": 265,
     "metadata": {},
     "output_type": "execute_result"
    }
   ],
   "source": [
    "num_vars_no_ev = num_vars_no_finish.drop(['R_odds', 'B_ev', 'R_ev'])\n",
    "log_reg_coef, X_columns = train_model(df, cat_vars, num_vars_no_ev, LogisticRegression())\n",
    "coef_df = get_coef(log_reg_coef, X_columns)\n",
    "coef_df.head(10)"
   ]
  },
  {
   "cell_type": "markdown",
   "metadata": {},
   "source": [
    "Accuracy is almost the same. If we remove the odds data completely, here is what we get."
   ]
  },
  {
   "cell_type": "code",
   "execution_count": 267,
   "metadata": {},
   "outputs": [
    {
     "name": "stdout",
     "output_type": "stream",
     "text": [
      "0.6078886310904872\n"
     ]
    },
    {
     "data": {
      "text/html": [
       "<div>\n",
       "<style scoped>\n",
       "    .dataframe tbody tr th:only-of-type {\n",
       "        vertical-align: middle;\n",
       "    }\n",
       "\n",
       "    .dataframe tbody tr th {\n",
       "        vertical-align: top;\n",
       "    }\n",
       "\n",
       "    .dataframe thead th {\n",
       "        text-align: right;\n",
       "    }\n",
       "</style>\n",
       "<table border=\"1\" class=\"dataframe\">\n",
       "  <thead>\n",
       "    <tr style=\"text-align: right;\">\n",
       "      <th></th>\n",
       "      <th>column</th>\n",
       "      <th>coef</th>\n",
       "      <th>abs_coefs</th>\n",
       "    </tr>\n",
       "  </thead>\n",
       "  <tbody>\n",
       "    <tr>\n",
       "      <th>33</th>\n",
       "      <td>R_losses</td>\n",
       "      <td>1.291261</td>\n",
       "      <td>1.291261</td>\n",
       "    </tr>\n",
       "    <tr>\n",
       "      <th>37</th>\n",
       "      <td>R_win_by_Decision_Split</td>\n",
       "      <td>1.220752</td>\n",
       "      <td>1.220752</td>\n",
       "    </tr>\n",
       "    <tr>\n",
       "      <th>30</th>\n",
       "      <td>R_avg_TD_landed</td>\n",
       "      <td>-1.190440</td>\n",
       "      <td>1.190440</td>\n",
       "    </tr>\n",
       "    <tr>\n",
       "      <th>23</th>\n",
       "      <td>B_Weight_lbs</td>\n",
       "      <td>1.157398</td>\n",
       "      <td>1.157398</td>\n",
       "    </tr>\n",
       "    <tr>\n",
       "      <th>47</th>\n",
       "      <td>B_age</td>\n",
       "      <td>-1.098218</td>\n",
       "      <td>1.098218</td>\n",
       "    </tr>\n",
       "    <tr>\n",
       "      <th>3</th>\n",
       "      <td>B_current_win_streak</td>\n",
       "      <td>0.885995</td>\n",
       "      <td>0.885995</td>\n",
       "    </tr>\n",
       "    <tr>\n",
       "      <th>45</th>\n",
       "      <td>R_Weight_lbs</td>\n",
       "      <td>-0.881755</td>\n",
       "      <td>0.881755</td>\n",
       "    </tr>\n",
       "    <tr>\n",
       "      <th>16</th>\n",
       "      <td>B_win_by_Decision_Unanimous</td>\n",
       "      <td>0.870295</td>\n",
       "      <td>0.870295</td>\n",
       "    </tr>\n",
       "    <tr>\n",
       "      <th>46</th>\n",
       "      <td>R_age</td>\n",
       "      <td>0.855394</td>\n",
       "      <td>0.855394</td>\n",
       "    </tr>\n",
       "    <tr>\n",
       "      <th>22</th>\n",
       "      <td>B_Reach_cms</td>\n",
       "      <td>0.772402</td>\n",
       "      <td>0.772402</td>\n",
       "    </tr>\n",
       "  </tbody>\n",
       "</table>\n",
       "</div>"
      ],
      "text/plain": [
       "                         column      coef  abs_coefs\n",
       "33                     R_losses  1.291261   1.291261\n",
       "37      R_win_by_Decision_Split  1.220752   1.220752\n",
       "30              R_avg_TD_landed -1.190440   1.190440\n",
       "23                 B_Weight_lbs  1.157398   1.157398\n",
       "47                        B_age -1.098218   1.098218\n",
       "3          B_current_win_streak  0.885995   0.885995\n",
       "45                 R_Weight_lbs -0.881755   0.881755\n",
       "16  B_win_by_Decision_Unanimous  0.870295   0.870295\n",
       "46                        R_age  0.855394   0.855394\n",
       "22                  B_Reach_cms  0.772402   0.772402"
      ]
     },
     "execution_count": 267,
     "metadata": {},
     "output_type": "execute_result"
    }
   ],
   "source": [
    "num_vars_no_odds = num_vars_no_ev.drop(['B_odds'])\n",
    "log_reg_coef, X_columns = train_model(df, cat_vars, num_vars_no_odds, LogisticRegression())\n",
    "coef_df = get_coef(log_reg_coef, X_columns)\n",
    "coef_df.head(10)"
   ]
  },
  {
   "cell_type": "markdown",
   "metadata": {},
   "source": [
    "Low enough accuracy goes even lower.\n",
    "\n",
    "Conclusion is simple here. Odds do not come from nowhere and you probably want to take those into consideration. Still, let me check, how much I can earn always betting the fighter with better odds."
   ]
  },
  {
   "cell_type": "code",
   "execution_count": 268,
   "metadata": {},
   "outputs": [
    {
     "name": "stdout",
     "output_type": "stream",
     "text": [
      "-3937.50 USD\n"
     ]
    }
   ],
   "source": [
    "bet_win = [(x['B_ev']+100)*x['winner_bool'] if x['B_odds'] < 0 else (x['R_ev']+100)*(1-x['winner_bool']) for _, x in df_19_20.iterrows()]\n",
    "print(\"{:.2f} USD\".format(np.sum(bet_win)-100*df_19_20.shape[0]))"
   ]
  },
  {
   "cell_type": "markdown",
   "metadata": {},
   "source": [
    "Let me change train-test split a bit. I want my model to fit on data prior to 2019 and use it's predictions for later fights. I will check the accuracy and amount of money I can earn on bets."
   ]
  },
  {
   "cell_type": "code",
   "execution_count": 294,
   "metadata": {},
   "outputs": [
    {
     "name": "stdout",
     "output_type": "stream",
     "text": [
      "0.6383265856950068\n"
     ]
    }
   ],
   "source": [
    "X = pd.get_dummies(df[cat_vars])\n",
    "X = pd.concat([df[num_vars_no_finish], X], axis=1)\n",
    "X['winner_bool'] = df['winner_bool']\n",
    "X_train = X[df['date']<'2019-01-01']\n",
    "X_test = X[df['date']>='2019-01-01']\n",
    "y_train = X_train['winner_bool']\n",
    "X_train = X_train.drop(['winner_bool'], axis=1)\n",
    "y_test = X_test['winner_bool']\n",
    "X_test = X_test.drop(['winner_bool'], axis=1)\n",
    "scaler = MinMaxScaler()\n",
    "X_train[num_vars_no_finish] = scaler.fit_transform(X_train[num_vars_no_finish])\n",
    "X_test[['B_ev_orig', 'R_ev_orig']] = X_test[['B_ev', 'R_ev']] \n",
    "X_test[num_vars_no_finish] = scaler.transform(X_test[num_vars_no_finish])\n",
    "model = LogisticRegression()\n",
    "model.fit(X_train, y_train)\n",
    "y_pred = model.predict(X_test.drop(['B_ev_orig', 'R_ev_orig'], axis=1))\n",
    "print(accuracy_score(y_test, y_pred))"
   ]
  },
  {
   "cell_type": "code",
   "execution_count": 296,
   "metadata": {},
   "outputs": [],
   "source": [
    "X_test['winner_pred'] = y_pred\n",
    "X_test['winner_bool'] = y_test"
   ]
  },
  {
   "cell_type": "code",
   "execution_count": 299,
   "metadata": {},
   "outputs": [
    {
     "name": "stdout",
     "output_type": "stream",
     "text": [
      "-932.49 USD\n"
     ]
    }
   ],
   "source": [
    "bet_win = [(x['B_ev_orig']+100)*x['winner_bool'] if x['winner_pred'] else (x['R_ev_orig']+100)*(1-x['winner_bool']) for _, x in X_test.iterrows()]\n",
    "print(\"{:.2f} USD\".format(np.sum(bet_win)-100*df_19_20.shape[0]))"
   ]
  },
  {
   "cell_type": "markdown",
   "metadata": {},
   "source": [
    "Surprised? Bad result is also a result. I am quite sure we CAN build good enough model in the end with some feature selection, feature engineering and hyperparameter tuning, but there is no simple one minute solution for this. What you always can do is enjoy a spectacular fight.\n",
    "\n",
    "Speaking of which. I am not a fan of bouts ending with decision. I love knockounts and submission. Which leads me to the next question.\n",
    "\n",
    "### Is there anything special about fights not ending with decision?"
   ]
  },
  {
   "cell_type": "code",
   "execution_count": null,
   "metadata": {},
   "outputs": [],
   "source": []
  }
 ],
 "metadata": {
  "kernelspec": {
   "display_name": "Python 3",
   "language": "python",
   "name": "python3"
  },
  "language_info": {
   "codemirror_mode": {
    "name": "ipython",
    "version": 3
   },
   "file_extension": ".py",
   "mimetype": "text/x-python",
   "name": "python",
   "nbconvert_exporter": "python",
   "pygments_lexer": "ipython3",
   "version": "3.7.6"
  }
 },
 "nbformat": 4,
 "nbformat_minor": 4
}
